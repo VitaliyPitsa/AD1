{
  "cells": [
    {
      "cell_type": "markdown",
      "id": "7e8912a9",
      "metadata": {
        "id": "7e8912a9"
      },
      "source": [
        "Лабораторная работа №1\n",
        "по дисциплине «Анализ данных».\n",
        "\n",
        "> Задание:\n",
        "\n",
        "Найти датасет.\n",
        "* Произвести выборки,\n",
        "* определить t-критерий Стьюдента.\n",
        "* anova test\n",
        "* Сделать выводы."
      ]
    },
    {
      "cell_type": "markdown",
      "id": "29065cfd",
      "metadata": {
        "id": "29065cfd"
      },
      "source": [
        "* H0 - мячики с покрытием летят так же далеко, как и без него\n",
        "* H1 - мячики с покрытием летят дальше, чем без него\n"
      ]
    },
    {
      "cell_type": "code",
      "execution_count": null,
      "id": "b9741c5e",
      "metadata": {
        "id": "b9741c5e"
      },
      "outputs": [],
      "source": [
        "import numpy as np\n",
        "import scipy.stats as stats\n",
        "import matplotlib.pyplot as plt\n",
        "import csv\n",
        "\n",
        "%matplotlib inline"
      ]
    },
    {
      "cell_type": "code",
      "execution_count": null,
      "id": "aa23c295",
      "metadata": {
        "id": "aa23c295"
      },
      "outputs": [],
      "source": [
        "with open('Golf.csv', 'r', newline='') as csvfile:\n",
        "    data = csv.reader(csvfile, delimiter=',')\n",
        "    a1 = []\n",
        "    a2 = []\n",
        "    next(data)\n",
        "    for row in data:\n",
        "        a1.append(int(row[1]))\n",
        "        a2.append(int(row[0]))"
      ]
    },
    {
      "cell_type": "code",
      "execution_count": null,
      "id": "53ba0c96",
      "metadata": {
        "id": "53ba0c96",
        "outputId": "e4aff4ad-2dc1-4936-8bd2-c8ebe7a2dff5"
      },
      "outputs": [
        {
          "name": "stdout",
          "output_type": "stream",
          "text": [
            "Ttest_indResult(statistic=-1.3283615935245678, pvalue=0.18793228491854663)\n"
          ]
        }
      ],
      "source": [
        "rez = stats.ttest_ind (a=a1, b=a2)\n",
        "print(rez)"
      ]
    },
    {
      "cell_type": "markdown",
      "id": "95948d36",
      "metadata": {
        "id": "95948d36"
      },
      "source": [
        "#### т.к. значение р-теста (0.1879) больше, чем альфа = 0,05, следовательно, на уровне статистики мы не можем отвергнуть нулевую гипотезу и утверждать что мячики с покрытием летят дальше, чем без него, нужны дополнительные исследования"
      ]
    },
    {
      "cell_type": "markdown",
      "id": "ffff7c51",
      "metadata": {
        "id": "ffff7c51"
      },
      "source": [
        "## ANOVA\n",
        "Построим блочную диаграмму:"
      ]
    },
    {
      "cell_type": "code",
      "execution_count": null,
      "id": "ad6cfe43",
      "metadata": {
        "id": "ad6cfe43",
        "outputId": "d308dbd3-c19b-4f9a-b97c-ce1fa5f95afe"
      },
      "outputs": [
        {
          "data": {
            "text/plain": [
              "F_onewayResult(statistic=1.764544523151157, pvalue=0.18793228491854264)"
            ]
          },
          "execution_count": 7,
          "metadata": {},
          "output_type": "execute_result"
        }
      ],
      "source": [
        "from scipy.stats import f_oneway\n",
        "\n",
        "f_oneway(a1, a2)"
      ]
    },
    {
      "cell_type": "markdown",
      "id": "e7e2a1a3",
      "metadata": {
        "id": "e7e2a1a3"
      },
      "source": [
        "P > 0.05, поэтому не можем отклонить нулевую гипотезу."
      ]
    },
    {
      "cell_type": "code",
      "execution_count": null,
      "id": "55bb5f9c",
      "metadata": {
        "id": "55bb5f9c"
      },
      "outputs": [],
      "source": []
    }
  ],
  "metadata": {
    "colab": {
      "provenance": []
    },
    "kernelspec": {
      "display_name": "Python 3 (ipykernel)",
      "language": "python",
      "name": "python3"
    },
    "language_info": {
      "codemirror_mode": {
        "name": "ipython",
        "version": 3
      },
      "file_extension": ".py",
      "mimetype": "text/x-python",
      "name": "python",
      "nbconvert_exporter": "python",
      "pygments_lexer": "ipython3",
      "version": "3.9.13"
    }
  },
  "nbformat": 4,
  "nbformat_minor": 5
}